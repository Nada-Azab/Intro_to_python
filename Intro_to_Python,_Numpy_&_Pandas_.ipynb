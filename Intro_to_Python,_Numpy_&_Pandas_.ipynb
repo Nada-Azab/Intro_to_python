{
  "nbformat": 4,
  "nbformat_minor": 0,
  "metadata": {
    "colab": {
      "provenance": []
    },
    "kernelspec": {
      "name": "python3",
      "display_name": "Python 3"
    },
    "language_info": {
      "name": "python"
    }
  },
  "cells": [
    {
      "cell_type": "markdown",
      "source": [
        "\n",
        "---\n",
        "<center><h1><b>Welcome to your first task with ML in Support'ASU</b></h1></center>\n",
        "\n",
        "---\n",
        "<br>\n",
        "\n",
        "This task's objective is to get you familiar with python's and ML libraries syntax"
      ],
      "metadata": {
        "id": "SWoFT9UNsO7k"
      }
    },
    {
      "cell_type": "markdown",
      "source": [
        "\n",
        "\n",
        "- Let's start with importing the libraries, Run The following cell."
      ],
      "metadata": {
        "id": "g_2dq-vekpv-"
      }
    },
    {
      "cell_type": "code",
      "source": [
        "import numpy as np\n",
        "import pandas as pd\n",
        "import time as t"
      ],
      "metadata": {
        "id": "3VGvmsO1G09P"
      },
      "execution_count": 1,
      "outputs": []
    },
    {
      "cell_type": "markdown",
      "source": [
        "# **Booleans & Functions**\n",
        "\n",
        "- Let's begin with a comparison operater, we will make a simple function that takes a number and return true if it is odd and false if it is even.\n",
        "- if the number is odd, the modulus of the division of the number over 2 will be 1.\n",
        "- Run the following cell to try."
      ],
      "metadata": {
        "id": "PQOWsbnFwQR-"
      }
    },
    {
      "cell_type": "code",
      "source": [
        "def isOdd(n):\n",
        "  return (n % 2) == 1\n",
        "\n",
        "print(\"Is 50 odd? \", isOdd(50))\n",
        "print(\"Is 11 odd? \", isOdd(11))  "
      ],
      "metadata": {
        "id": "NEptNA_6tNbX",
        "colab": {
          "base_uri": "https://localhost:8080/"
        },
        "outputId": "7b179d50-f422-49bf-bc92-4f11383cd463"
      },
      "execution_count": 2,
      "outputs": [
        {
          "output_type": "stream",
          "name": "stdout",
          "text": [
            "Is 50 odd?  False\n",
            "Is 11 odd?  True\n"
          ]
        }
      ]
    },
    {
      "cell_type": "markdown",
      "source": [
        "- Let's try it yourself by creating a function test if the number is even or not.\n",
        "- Uncomment the two print lines to see the outputs."
      ],
      "metadata": {
        "id": "agNS4Lkjx7KL"
      }
    },
    {
      "cell_type": "code",
      "source": [
        "def isEven(n):\n",
        "         ## write your code here ###\n",
        "  return (n%2)==0\n",
        "         ## your code ends here ###\n",
        "\n",
        "print(\"Is 12 even? \", isEven(12))\n",
        "print(\"Is 99 even? \", isEven(99))             "
      ],
      "metadata": {
        "id": "V48RjgI9xTEt",
        "colab": {
          "base_uri": "https://localhost:8080/"
        },
        "outputId": "319f1e0c-1294-4bd0-f5db-548c300221c1"
      },
      "execution_count": 3,
      "outputs": [
        {
          "output_type": "stream",
          "name": "stdout",
          "text": [
            "Is 12 even?  True\n",
            "Is 99 even?  False\n"
          ]
        }
      ]
    },
    {
      "cell_type": "markdown",
      "source": [
        "# **Conditions & Loops**\n",
        "\n",
        "- Let's see how the if condition looks like in Python.\n",
        "- The following function check whether the number is positiver or negative or zero.\n",
        "- Run the following cell to test it."
      ],
      "metadata": {
        "id": "YsZyat6ZAkn9"
      }
    },
    {
      "cell_type": "code",
      "source": [
        "def inspect(number):\n",
        "  if number == 0:\n",
        "    print(number,\" is zero.\")\n",
        "  elif number > 0:\n",
        "    print(number,\" is positive.\")\n",
        "  else:\n",
        "    print(number,\" is negative.\")\n",
        "\n",
        "\n",
        "inspect(5)\n",
        "inspect(-15)\n",
        "inspect(0)"
      ],
      "metadata": {
        "id": "43DOTir_1T_d",
        "colab": {
          "base_uri": "https://localhost:8080/"
        },
        "outputId": "4dd6e22d-e8b6-4b00-ff24-e451cc0c96fd"
      },
      "execution_count": 4,
      "outputs": [
        {
          "output_type": "stream",
          "name": "stdout",
          "text": [
            "5  is positive.\n",
            "-15  is negative.\n",
            "0  is zero.\n"
          ]
        }
      ]
    },
    {
      "cell_type": "markdown",
      "source": [
        "- Now, let's see how the for loop looks like in python.\n",
        "- the following cell is simple, it will print the numbers from 0 to 9 when you run it."
      ],
      "metadata": {
        "id": "RQahKHfaCprk"
      }
    },
    {
      "cell_type": "code",
      "source": [
        "for i in range(0,10):\n",
        "  print(i)"
      ],
      "metadata": {
        "id": "k3sL7_ViCm_T",
        "colab": {
          "base_uri": "https://localhost:8080/"
        },
        "outputId": "9b2733b4-3c5e-4306-c027-25c665f34c7d"
      },
      "execution_count": 5,
      "outputs": [
        {
          "output_type": "stream",
          "name": "stdout",
          "text": [
            "0\n",
            "1\n",
            "2\n",
            "3\n",
            "4\n",
            "5\n",
            "6\n",
            "7\n",
            "8\n",
            "9\n"
          ]
        }
      ]
    },
    {
      "cell_type": "markdown",
      "source": [
        "- Now, it's your turn, use the following cell to write a for loop from 0 to 10 and print if the number is odd or even."
      ],
      "metadata": {
        "id": "mbaSHa-vDgeQ"
      }
    },
    {
      "cell_type": "code",
      "source": [
        "### write your code here ###\n",
        "for n in range(0,10):\n",
        "  if (n %2 )==0 :\n",
        "    print(\"Number is even\")\n",
        "  else :\n",
        "     print(\"Number is odd\")"
      ],
      "metadata": {
        "id": "2F4SwVawC5fq",
        "colab": {
          "base_uri": "https://localhost:8080/"
        },
        "outputId": "da359f6d-79c2-41dd-d573-8044188b6e15"
      },
      "execution_count": 6,
      "outputs": [
        {
          "output_type": "stream",
          "name": "stdout",
          "text": [
            "Number is even\n",
            "Number is odd\n",
            "Number is even\n",
            "Number is odd\n",
            "Number is even\n",
            "Number is odd\n",
            "Number is even\n",
            "Number is odd\n",
            "Number is even\n",
            "Number is odd\n"
          ]
        }
      ]
    },
    {
      "cell_type": "markdown",
      "source": [
        "# **Lists, Tuples and Dictionaries**\n",
        "\n",
        "- Let's begin with lists, list is a sequence of values as arrays in c++ and other programming languages.\n",
        "- Let's see how we initialize a list in Python"
      ],
      "metadata": {
        "id": "dw265Kx2Dyfh"
      }
    },
    {
      "cell_type": "code",
      "source": [
        "primes = [2,3,5,7,11]"
      ],
      "metadata": {
        "id": "cPT-sVF4DxKk"
      },
      "execution_count": 7,
      "outputs": []
    },
    {
      "cell_type": "markdown",
      "source": [
        "- indexing in Python is zero based as in arrays, Let's try it.\n",
        "- In the following cell, print the second element from the primes' array which is 3."
      ],
      "metadata": {
        "id": "g0BQ4lorO7Jy"
      }
    },
    {
      "cell_type": "code",
      "source": [
        "### write your code here ###\n",
        "print (primes[1])"
      ],
      "metadata": {
        "id": "GuRRWyvRNYH_",
        "colab": {
          "base_uri": "https://localhost:8080/"
        },
        "outputId": "c3da5dd5-e56b-4f5a-855b-c7be7eb4704a"
      },
      "execution_count": 8,
      "outputs": [
        {
          "output_type": "stream",
          "name": "stdout",
          "text": [
            "3\n"
          ]
        }
      ]
    },
    {
      "cell_type": "markdown",
      "source": [
        "- Let's see a Python trick in lists in the following cell.\n",
        "- what if we want to access the last two elements of the list and print them and we don't know the length of the list, let's see how we can do that."
      ],
      "metadata": {
        "id": "HWYAF7l0PXDN"
      }
    },
    {
      "cell_type": "code",
      "source": [
        "print(primes[-1])\n",
        "print(primes[-2])"
      ],
      "metadata": {
        "id": "VZ7O_NMQPVhH",
        "colab": {
          "base_uri": "https://localhost:8080/"
        },
        "outputId": "fad6dcc8-54be-402d-cb2d-8673d81030f4"
      },
      "execution_count": 9,
      "outputs": [
        {
          "output_type": "stream",
          "name": "stdout",
          "text": [
            "11\n",
            "7\n"
          ]
        }
      ]
    },
    {
      "cell_type": "markdown",
      "source": [
        "- Now, let's see a 2d list in Python and it's indexing."
      ],
      "metadata": {
        "id": "XvRhUm94RxsW"
      }
    },
    {
      "cell_type": "code",
      "source": [
        "matrix = [[1,3,5],\n",
        "          [2,4,6],\n",
        "          [1,8,7]]\n",
        "\n",
        "print(\"matrix first element is: \",matrix[0][0])          "
      ],
      "metadata": {
        "id": "ZJxhsBFIPzks",
        "colab": {
          "base_uri": "https://localhost:8080/"
        },
        "outputId": "5f998505-6ab2-48d5-a7ae-4a7dba08e35b"
      },
      "execution_count": 10,
      "outputs": [
        {
          "output_type": "stream",
          "name": "stdout",
          "text": [
            "matrix first element is:  1\n"
          ]
        }
      ]
    },
    {
      "cell_type": "markdown",
      "source": [
        "- Try it yourself and print the last element of the matrix in the following cell."
      ],
      "metadata": {
        "id": "EO-WABZHSsAC"
      }
    },
    {
      "cell_type": "code",
      "source": [
        "### write your code here ###\n",
        "print(\"matrix first element is: \",matrix[-1][-1])\n",
        "print(\"matrix first element is: \",matrix[2][2])"
      ],
      "metadata": {
        "id": "b_V-SiLxS0t-",
        "colab": {
          "base_uri": "https://localhost:8080/"
        },
        "outputId": "f12cfacc-6420-46d1-e744-e43f4efe494e"
      },
      "execution_count": 11,
      "outputs": [
        {
          "output_type": "stream",
          "name": "stdout",
          "text": [
            "matrix first element is:  7\n",
            "matrix first element is:  7\n"
          ]
        }
      ]
    },
    {
      "cell_type": "markdown",
      "source": [
        "**Slicing in Lists**\n",
        "\n",
        "- what if we want to print the first 3 primes from the primes list and the first two columns in the 2D matrix, let's see how we can do that in the following cell. "
      ],
      "metadata": {
        "id": "IXHSvDRJTwBI"
      }
    },
    {
      "cell_type": "code",
      "source": [
        "print(\"The first three primes are \", primes[0:3])\n",
        "print(\"The first two columns of the matrix are \",matrix[:,0:2])"
      ],
      "metadata": {
        "id": "__eWgEEVS4Jn",
        "colab": {
          "base_uri": "https://localhost:8080/"
        },
        "outputId": "78a57f75-00e8-4833-bb8c-fec61538a69d"
      },
      "execution_count": 15,
      "outputs": [
        {
          "output_type": "stream",
          "name": "stdout",
          "text": [
            "The first three primes are  [2, 3, 5]\n",
            "The first two columns of the matrix are  [[1, 3, 5], [2, 4, 6], [1, 8, 7]]\n"
          ]
        }
      ]
    },
    {
      "cell_type": "markdown",
      "source": [
        "- Don't worry about the error, we will understand slicing in 2D and fix the error in later section.\n",
        "- in the following cell, try by yourself to slice the last three elements of the primes list"
      ],
      "metadata": {
        "id": "-wPsKqGWV4OS"
      }
    },
    {
      "cell_type": "code",
      "source": [
        "### write your code here ###\n",
        "print(\"The last three primes are \", primes[-1] , primes[-3:-1])\n",
        "print(\"The last three primes are \", primes[2:])\n",
        "print(\"The last three primes are \", primes[len(primes)-3:])"
      ],
      "metadata": {
        "id": "60T3tZg1VF7v"
      },
      "execution_count": null,
      "outputs": []
    },
    {
      "cell_type": "markdown",
      "source": [
        "- There are some functions to help you with lists:\n",
        "      1- To get max or min element in the list, we can use min() or max() functions.\n",
        "      2- To get length of list, we can use len() function.\n",
        "      3- To add new element, we can use append() function in the format of listName.append(value).\n",
        "      4- To find index of some value, we can use index() function in the format of listName.index(value).\n",
        "\n",
        "- Let's see a code example in the following cell.      "
      ],
      "metadata": {
        "id": "dKy3i7M1WcMZ"
      }
    },
    {
      "cell_type": "code",
      "source": [
        "print(\"Length of the primes list is: \" , len(primes))\n",
        "print(\"Minimum element of the primes list is: \" , min(primes))\n",
        "print(\"Maximum element of the primes list is: \" , max(primes))\n",
        "print(\"index of 5 in the primes list is: \" , primes.index(5))"
      ],
      "metadata": {
        "id": "6V3ngTVpWYL0"
      },
      "execution_count": null,
      "outputs": []
    },
    {
      "cell_type": "markdown",
      "source": [
        "- In the following cell, try by yourself to add the next prime number to the list which is 13 and print it's index after that."
      ],
      "metadata": {
        "id": "sQyGQMt3cxqs"
      }
    },
    {
      "cell_type": "code",
      "source": [
        "### write your code here ###\n",
        "primes.append(13)\n",
        "print(primes.index(13))"
      ],
      "metadata": {
        "id": "LhAS-1-ScvjK"
      },
      "execution_count": null,
      "outputs": []
    },
    {
      "cell_type": "markdown",
      "source": [
        "**List Comprehensions**\n",
        "\n",
        "- If we want to filter a list and get all even numbers of it in another list, we will do as the following cell do."
      ],
      "metadata": {
        "id": "Ftg4kpuE_qYN"
      }
    },
    {
      "cell_type": "code",
      "source": [
        "List = [0,1,2,3,4,5,6,7,8,9]\n",
        "evenList = []\n",
        "\n",
        "for i in List:\n",
        "  if i % 2 == 0:\n",
        "    evenList.append(i)\n",
        "\n",
        "print(evenList)    "
      ],
      "metadata": {
        "id": "butS56vQdBFQ"
      },
      "execution_count": null,
      "outputs": []
    },
    {
      "cell_type": "markdown",
      "source": [
        "- What if we have a way to do it in one line, it's a cool thing,isn't it?\n",
        "- Let's see how in the next cell"
      ],
      "metadata": {
        "id": "gYT1Sihw9JEA"
      }
    },
    {
      "cell_type": "code",
      "source": [
        "evenListComprehension = [element for element in List  if element % 2 == 0]\n",
        "\n",
        "print(evenListComprehension)"
      ],
      "metadata": {
        "id": "f-Moh1oN9H2J"
      },
      "execution_count": null,
      "outputs": []
    },
    {
      "cell_type": "markdown",
      "source": [
        "- Let's try it by yourself, create an odd list by the same way."
      ],
      "metadata": {
        "id": "qFLkumeBAJZx"
      }
    },
    {
      "cell_type": "code",
      "source": [
        "### write your code here ###\n",
        "oddListComprehension = [element for element in List  if element % 2 == 1]\n",
        "\n",
        "print(oddListComprehension)"
      ],
      "metadata": {
        "id": "Z-3nqp8z_K7Y"
      },
      "execution_count": null,
      "outputs": []
    },
    {
      "cell_type": "markdown",
      "source": [
        "**Tuples**\n",
        "\n",
        "- Tuples are almost exactly the same as lists. They differ in just two ways:\n",
        "     1.  The syntax for creating them uses parentheses instead of square \n",
        "brackets.\n",
        "     2. They cannot be modified (they are immutable)."
      ],
      "metadata": {
        "id": "CGJ9UZ7pAsdr"
      }
    },
    {
      "cell_type": "code",
      "source": [
        "Tuple = (1,2,3)\n",
        "print(Tuple)\n",
        "Tuple[0] = 0 "
      ],
      "metadata": {
        "id": "b1XN_IB-AWwZ"
      },
      "execution_count": null,
      "outputs": []
    },
    {
      "cell_type": "markdown",
      "source": [
        "**Dictionaries**\n",
        "\n",
        "- Dictionaries are a built-in Python data structure for mapping keys to values.\n",
        "- Let's see an example in the following cell"
      ],
      "metadata": {
        "id": "CgI2Ye42Cv7s"
      }
    },
    {
      "cell_type": "code",
      "source": [
        "d = {\"One\": 1 , \"Two\":2 , \"Three\":3}"
      ],
      "metadata": {
        "id": "ecMySZgACtfQ"
      },
      "execution_count": null,
      "outputs": []
    },
    {
      "cell_type": "markdown",
      "source": [
        "- So, we can use the key to access the value instead of the index.\n",
        "- Try it yourself in the next cell and print number 2"
      ],
      "metadata": {
        "id": "-EkUcupJEqzD"
      }
    },
    {
      "cell_type": "code",
      "source": [
        "### write your code here ###\n",
        "d[\"Two\"]\n"
      ],
      "metadata": {
        "id": "vW2hRnJ6Dums"
      },
      "execution_count": null,
      "outputs": []
    },
    {
      "cell_type": "markdown",
      "source": [
        "- If you want to add element you can do it in the following form."
      ],
      "metadata": {
        "id": "qLGbFHiHFz2w"
      }
    },
    {
      "cell_type": "code",
      "source": [
        "d[\"Ten\"] = 10\n",
        "d"
      ],
      "metadata": {
        "id": "CUUXLSw8F6jy"
      },
      "execution_count": null,
      "outputs": []
    },
    {
      "cell_type": "markdown",
      "source": [
        "- Try to add element by yourself in the next cell."
      ],
      "metadata": {
        "id": "DtQYQ3M2F-TS"
      }
    },
    {
      "cell_type": "code",
      "source": [
        "### write your code here ###\n",
        "d['fifty']=50\n",
        "d"
      ],
      "metadata": {
        "id": "MWb8MpY-IIqh"
      },
      "execution_count": null,
      "outputs": []
    },
    {
      "cell_type": "markdown",
      "source": [
        "# **Numpy**\n",
        "\n",
        "- Numpy is a Python library that simplify and deal with mathematical operations.\n",
        "- Let's start with initializing Numpy array "
      ],
      "metadata": {
        "id": "ntYW4uKPFAjI"
      }
    },
    {
      "cell_type": "code",
      "source": [
        "a = np.arange(10)\n",
        "a"
      ],
      "metadata": {
        "id": "gJXitzPxE9zh"
      },
      "execution_count": null,
      "outputs": []
    },
    {
      "cell_type": "markdown",
      "source": [
        "- Now, Let's try to initialize a matrix of shape 5*5 with random numbers"
      ],
      "metadata": {
        "id": "JReKmxwpR43w"
      }
    },
    {
      "cell_type": "code",
      "source": [
        "matrix1 = np.random.rand(5,5)\n",
        "matrix1"
      ],
      "metadata": {
        "id": "CVFMQiv5RON3"
      },
      "execution_count": null,
      "outputs": []
    },
    {
      "cell_type": "markdown",
      "source": [
        "- The function **np.random.rand()** give as a random values between [0,1], there as another function called **np.random.randn** gives a values between [-1,1].\n",
        "- Let's, initialize another matrix with shape 5*2 but this time with zeros."
      ],
      "metadata": {
        "id": "reTMUyLRSjs6"
      }
    },
    {
      "cell_type": "code",
      "source": [
        "matrix2 = np.zeros((5,2))\n",
        "matrix2\n"
      ],
      "metadata": {
        "id": "pI4s80-LSXKi"
      },
      "execution_count": null,
      "outputs": []
    },
    {
      "cell_type": "markdown",
      "source": [
        "- Now, we want from you to write a code of matrix multiplication in the following cell using the ordinary for loops to multiply matrix1 and matrix2"
      ],
      "metadata": {
        "id": "3ga3ZBtNS_MO"
      }
    },
    {
      "cell_type": "code",
      "source": [
        "resultMatrix =  [[0,0],[0,0],[0,0],[0,0],[0,0]]\n",
        "startTime = t.time()\n",
        "### write your code here ###\n",
        "for rows in range(len(matrix1)):\n",
        "   for cols in range(len(matrix2[0])):\n",
        "      for cols2 in range(len(matrix2)) :\n",
        "          resultMatrix[rows][cols]+=matrix1[rows][cols2]*matrix2[cols2][cols]\n",
        "### your code ends here ###\n",
        "\n",
        "print(\"Result matrix is \", resultMatrix)\n",
        "print(\"The execution time is: \",(t.time() - startTime))"
      ],
      "metadata": {
        "id": "GDbraDU7S6UK"
      },
      "execution_count": null,
      "outputs": []
    },
    {
      "cell_type": "markdown",
      "source": [
        "- Let's see the difference in time if we use the dot function in Numpy."
      ],
      "metadata": {
        "id": "-UPCU-pSUL8b"
      }
    },
    {
      "cell_type": "code",
      "source": [
        "startTime = t.time()\n",
        "\n",
        "resultMatrix = np.dot(matrix1,matrix2)\n",
        "\n",
        "print(\"Result matrix is \", resultMatrix)\n",
        "print(\"Matrix DataType is \", type(resultMatrix))\n",
        "print(\"The execution time is: \",(t.time() - startTime))"
      ],
      "metadata": {
        "id": "iXGRoMehTsVg"
      },
      "execution_count": null,
      "outputs": []
    },
    {
      "cell_type": "markdown",
      "source": [
        "- You will see the difference in time between the two approaches in larger \n",
        "matrices multiplication.\n",
        "- You can see that the dataType of the result matrix is a Numpy array.\n",
        "- Now, remember 2D slicing from the Lists section, let's try to slice the resultMatrix in the following cell by yourself.\n",
        "- Print the first two rows of the matrix and in another line, print the first three columns."
      ],
      "metadata": {
        "id": "3zwZ4_faiaae"
      }
    },
    {
      "cell_type": "code",
      "source": [
        "### write your code here ###"
      ],
      "metadata": {
        "id": "8KAa7jqjUZy7"
      },
      "execution_count": null,
      "outputs": []
    },
    {
      "cell_type": "markdown",
      "source": [
        "- So, how can we initialize a Numpy array, we use the function **np.array()** and gave it the list that we want.\n",
        "- In the next section try to make two matrices using Numpy array by yourself.\n",
        "- Make the first matrix with values **[1,3,5,7,9]** and the second with values **[[1,2,3]**,\n",
        " **[4,5,6]]**."
      ],
      "metadata": {
        "id": "pz-uwq-akfMB"
      }
    },
    {
      "cell_type": "code",
      "source": [
        "## write your code here ###\n",
        "numpyMatrix1 = np.array([1,3,5,7,9])\n",
        "numpyMatrix2 = np.array( [[1,2,3], [4,5,6]])\n",
        "## your code ends here ###"
      ],
      "metadata": {
        "id": "o2C9sdxPj9FV"
      },
      "execution_count": null,
      "outputs": []
    },
    {
      "cell_type": "markdown",
      "source": [
        "- Let's see the shapes of our two arrays, uncomment the following print lines and run the cell."
      ],
      "metadata": {
        "id": "GHB0rlc8ldS2"
      }
    },
    {
      "cell_type": "code",
      "source": [
        "print(numpyMatrix1.shape)\n",
        "print(numpyMatrix2.shape)"
      ],
      "metadata": {
        "id": "uMkL-GRdlbqk"
      },
      "execution_count": null,
      "outputs": []
    },
    {
      "cell_type": "markdown",
      "source": [
        "- You can see the shape of the 1D array is (5,).\n",
        "- So, the problem is that Numpy treats it as a 1d array not a matrix.\n",
        "- When you use it in a matrix multiplication, it will give you an error. So, the solution is that we will use a function called **np.reshape()** and give it the new shape which is (5,1).\n",
        "- Try it by yourself in the next cell, use the reshape function then print the matrix shape to make sure the shape has been fixed."
      ],
      "metadata": {
        "id": "BOLlkm8Rl5kp"
      }
    },
    {
      "cell_type": "code",
      "source": [
        "### write your code here ###\n",
        "numpyMatrix1=numpyMatrix1.reshape(5,1)\n",
        "print(numpyMatrix1.shape)\n",
        "print(numpyMatrix2.shape)"
      ],
      "metadata": {
        "id": "igFGbzkjl48h"
      },
      "execution_count": null,
      "outputs": []
    },
    {
      "cell_type": "markdown",
      "source": [
        "# **Pandas**\n",
        "\n",
        "- Pandas is a Python library that helps us to deal with dataSets as .csv Excel files.\n",
        "- We will use a dataSet called Titanic that have the information about it's passengers and are they survived or not.\n",
        "- Let's see how to read it in the next cell.  "
      ],
      "metadata": {
        "id": "PmZnKuPUoCoP"
      }
    },
    {
      "cell_type": "code",
      "source": [
        "titanicDataSet = pd.read_csv(\"titanic_data.csv\")"
      ],
      "metadata": {
        "id": "zW4uB5rroB8U"
      },
      "execution_count": null,
      "outputs": []
    },
    {
      "cell_type": "markdown",
      "source": [
        "- Next, we will use a function called head() to see the first five rows in the dataSet.\n",
        "- Run the following cell to test it."
      ],
      "metadata": {
        "id": "Da-hhv_Mvh4a"
      }
    },
    {
      "cell_type": "code",
      "source": [
        "titanicDataSet.head()"
      ],
      "metadata": {
        "id": "cpCNfchMvhGC"
      },
      "execution_count": null,
      "outputs": []
    },
    {
      "cell_type": "markdown",
      "source": [],
      "metadata": {
        "id": "LdMJbOxuvvMX"
      }
    },
    {
      "cell_type": "code",
      "source": [
        "titanicDataSet.info()"
      ],
      "metadata": {
        "id": "Hx-x83mTvtMj"
      },
      "execution_count": null,
      "outputs": []
    },
    {
      "cell_type": "markdown",
      "source": [
        "- Let's see the discription of the dataSet in the following cell."
      ],
      "metadata": {
        "id": "hMC42vNjwI12"
      }
    },
    {
      "cell_type": "code",
      "source": [
        "titanicDataSet.describe()"
      ],
      "metadata": {
        "id": "1Eq8X5-jv2Rn"
      },
      "execution_count": null,
      "outputs": []
    },
    {
      "cell_type": "markdown",
      "source": [
        "# **Congratulations!**\n",
        "\n",
        "- You have completed your first task, hope you found it useful for you."
      ],
      "metadata": {
        "id": "oi8DHyYSwQSd"
      }
    },
    {
      "cell_type": "markdown",
      "source": [
        "---\n",
        "<center>\n",
        "<font size=4, face='helvetica'>ML Committee</font><br>\n",
        "<font size=5, color='#ffb71c'>S</font><font size=4, face='helvetica'>upport ASU </font></center>"
      ],
      "metadata": {
        "id": "bnz_NiXik4Oa"
      }
    }
  ]
}